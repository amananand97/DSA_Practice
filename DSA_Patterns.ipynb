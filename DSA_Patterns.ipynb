{
 "cells": [
  {
   "cell_type": "markdown",
   "metadata": {},
   "source": [
    "# DSA 14 Patterns "
   ]
  },
  {
   "cell_type": "markdown",
   "metadata": {},
   "source": [
    "----\n",
    "----"
   ]
  },
  {
   "cell_type": "markdown",
   "metadata": {},
   "source": [
    "# 1. Cyclic sort Pattern"
   ]
  },
  {
   "cell_type": "markdown",
   "metadata": {},
   "source": [
    "The Cyclic Sort pattern is a technique used to solve problems involving arrays containing numbers in a given range. It iterates over the array one number at a time and, if the current number is not at the correct index, swaps it with the number at its correct index. This approach avoids the O(n^2) complexity that would result from placing each number in its correct index individually.\n",
    "\n",
    "You can identify the Cyclic Sort pattern in problems that involve a sorted array with numbers in a given range, or when the problem asks you to find a missing, duplicate, or smallest number in a sorted or rotated array.\n",
    "\n",
    "Examples of problems that can be solved using the Cyclic Sort pattern include Find the Missing Number (easy) and Find the Smallest Missing Positive Number (medium)."
   ]
  },
  {
   "cell_type": "markdown",
   "metadata": {},
   "source": [
    "----"
   ]
  },
  {
   "cell_type": "markdown",
   "metadata": {},
   "source": [
    "**Ques1** Move all zeroes to end of array.\n",
    "\n",
    "    Input :  arr[] = {1, 2, 0, 4, 3, 0, 5, 0};\n",
    "    Output : arr[] = {1, 2, 4, 3, 5, 0, 0, 0};"
   ]
  },
  {
   "cell_type": "code",
   "execution_count": 78,
   "metadata": {},
   "outputs": [
    {
     "name": "stdout",
     "output_type": "stream",
     "text": [
      "[1, 2, 4, 3, 5, 0, 0, 0]\n"
     ]
    }
   ],
   "source": [
    "class solution():\n",
    "    def push(self, arr, n):  # Define a method named push within the class, taking arguments self, arr, and n\n",
    "        count = 0  # Initialize a variable count to 0\n",
    "\n",
    "        for i in range(n):  # Iterate over the range of numbers from 0 to n-1\n",
    "            if arr[i] != 0:  # Check if the current element is not equal to 0\n",
    "                arr[count] = arr[i]  # Move the non-zero element to the front of the array\n",
    "                count += 1  # Increment count\n",
    "\n",
    "        while count < n:  # Continue iterating until count reaches n\n",
    "            arr[count] = 0  # Replace remaining elements with zeros\n",
    "            count += 1  # Increment count\n",
    "        return arr  # Return the modified array\n",
    "\n",
    "arr = [1, 2, 0, 4, 3, 0, 5, 0]\n",
    "n = len(arr)\n",
    "sol = solution()\n",
    "print(sol.push(arr, n))\n",
    "\n",
    "# Time Complexity: O(n)\n",
    "# Space Complexity: O(1)"
   ]
  },
  {
   "cell_type": "markdown",
   "metadata": {},
   "source": [
    "# 2. In-place reversal of linked list"
   ]
  },
  {
   "cell_type": "markdown",
   "metadata": {},
   "source": [
    "The In-place Reversal of Linked List pattern is used to reverse the links between a set of nodes in a linked list without using extra memory. This pattern reverses one node at a time, starting with one variable (current) pointing to the head of the linked list and another variable (previous) pointing to the previous node that has been processed.\n",
    "\n",
    "To reverse the linked list, you move through the list one node at a time, reversing the current node by pointing it to the previous node before moving on to the next node. The \"previous\" variable is updated to always point to the previous node that has been processed.\n",
    "\n",
    "You can identify when to use this pattern if you're asked to reverse a linked list without using extra memory.\n",
    "\n",
    "Examples of problems that can be solved using the In-place Reversal of Linked List pattern include Reverse a Sub-list (medium) and Reverse every K-element Sub-list (medium)."
   ]
  },
  {
   "cell_type": "markdown",
   "metadata": {},
   "source": [
    "----"
   ]
  },
  {
   "cell_type": "markdown",
   "metadata": {},
   "source": [
    "# 3. Sliding Window Pattern"
   ]
  },
  {
   "cell_type": "markdown",
   "metadata": {},
   "source": [
    "The Sliding Window pattern is a technique used to perform a required operation on a specific window size of a given array or linked list. The window starts from the 1st element and keeps shifting right by one element, adjusting the length of the window according to the problem being solved. In some cases, the window size remains constant, while in others, it grows or shrinks.\n",
    "\n",
    "When using the Sliding Window pattern:\n",
    "\n",
    "    The problem input is a linear data structure such as a linked list, array, or string.\n",
    "    You're typically asked to find the longest/shortest substring, subarray, or a desired value.\n",
    "\n",
    "Common problems where the Sliding Window pattern is used include finding the maximum sum subarray of size 'K', finding the longest substring with 'K' distinct characters, and solving string anagrams"
   ]
  },
  {
   "cell_type": "markdown",
   "metadata": {},
   "source": [
    "----"
   ]
  },
  {
   "cell_type": "markdown",
   "metadata": {},
   "source": [
    "**Ques1**: Write an efficient function that takes stock_prices and returns the best profit I could have made from one purchase and one sale of one share of Apple stock yesterday. [Array]\n",
    "\n",
    "    Input: stock_prices = [10, 7, 5, 8, 11, 9]\n",
    "    Output: 6"
   ]
  },
  {
   "cell_type": "code",
   "execution_count": 22,
   "metadata": {},
   "outputs": [
    {
     "name": "stdout",
     "output_type": "stream",
     "text": [
      "Output: 6\n"
     ]
    }
   ],
   "source": [
    "from typing import List\n",
    "\n",
    "class Solution:\n",
    "    def stock(self, stock_prices: List[int]) -> int:  # Defining a method stock which takes a list of integers (stock_prices) and returns an integer\n",
    "        curr_price = stock_prices[0]  # Setting the initial current price to the first stock price\n",
    "        profit = 0  # Initializing the profit to 0\n",
    "\n",
    "        for i in stock_prices[1:]:  # Iterating over the stock prices starting from the second price\n",
    "            if i < curr_price:  # If the current price is lower than the previous price, update the current price\n",
    "                curr_price = i\n",
    "            else:  # If the current price is higher than or equal to the previous price, calculate the profit\n",
    "                profit = max(profit, i - curr_price)  # Update the profit if the current profit is higher\n",
    "\n",
    "        return profit  # Return the maximum profit\n",
    "\n",
    "stock_prices = [10, 7, 5, 8, 11, 9]\n",
    "sol = Solution()\n",
    "print(\"Output: \" + str(sol.stock(stock_prices)))\n",
    "\n",
    "# Time Complexity: O(n) where n is the number of stock prices\n",
    "# Space Complexity: O(1) since only a constant amount of extra space is used"
   ]
  },
  {
   "cell_type": "markdown",
   "metadata": {},
   "source": [
    "**Ques2** : Valid Parentheses - [Leetcode Ques: 20] [Stack] [Hashtable]\n",
    "\n",
    "    Input: s = \"()\"\n",
    "    Output: true"
   ]
  },
  {
   "cell_type": "code",
   "execution_count": 41,
   "metadata": {},
   "outputs": [
    {
     "name": "stdout",
     "output_type": "stream",
     "text": [
      "Output: False\n"
     ]
    }
   ],
   "source": [
    "class Solution():\n",
    "    def isValid(self, s: str) -> bool:\n",
    "        stack = []\n",
    "        pairs = {\n",
    "            '(': ')',\n",
    "            '{': '}',\n",
    "            '[': ']'\n",
    "        }\n",
    "        for bracket in s:\n",
    "            if bracket in pairs:\n",
    "                stack.append(bracket)\n",
    "            elif len(stack) == 0 or bracket != pairs[stack.pop()]:\n",
    "                return False\n",
    "\n",
    "        return len(stack) == 0\n",
    "\n",
    "s = \"()[}\"\n",
    "sol = Solution()\n",
    "print(\"Output: \" + str(sol.isValid(s)))"
   ]
  },
  {
   "cell_type": "markdown",
   "metadata": {},
   "source": [
    "# 4. Merge Intervals Pattern"
   ]
  },
  {
   "cell_type": "markdown",
   "metadata": {},
   "source": [
    "The Merge Intervals pattern is a useful technique for dealing with overlapping intervals efficiently. When working with intervals, you often need to find overlapping intervals or merge intervals if they overlap. This pattern helps you manage these scenarios effectively.\n",
    "\n",
    "When given two intervals 'a' and 'b', there are six different ways the two intervals can relate to each other. Understanding and recognizing these six cases can help you solve a wide range of problems, from inserting intervals to optimizing interval merges.\n",
    "\n",
    "You can identify when to use the Merge Intervals pattern if you're asked to produce a list with only mutually exclusive intervals or if the problem involves overlapping intervals.\n",
    "\n",
    "Examples of problems that can be solved using the Merge Intervals pattern include Intervals Intersection (medium) and Maximum CPU Load (hard)."
   ]
  },
  {
   "cell_type": "markdown",
   "metadata": {},
   "source": [
    "----"
   ]
  },
  {
   "cell_type": "markdown",
   "metadata": {},
   "source": [
    "**Ques1** : Merge Intervals: Given a list of intervals, merge all overlapping intervals. [Array]\n",
    "\n",
    "    Input: [[1,3],[2,6],[8,10],[15,18]]\n",
    "    Output: [[1,6],[8,10],[15,18]]"
   ]
  },
  {
   "cell_type": "code",
   "execution_count": 23,
   "metadata": {},
   "outputs": [
    {
     "name": "stdout",
     "output_type": "stream",
     "text": [
      "Output: [[1, 6], [8, 10], [15, 18]]\n"
     ]
    }
   ],
   "source": [
    "from typing import List\n",
    "\n",
    "class Solution:\n",
    "    def mergeInt(self, intervals: List[List[int]]) -> List[List[int]]:  # Defining a method mergeInt which takes a list of lists of integers (intervals) and returns a list of merged intervals\n",
    "        if not intervals:  # Checking if the input list is empty\n",
    "            return []  # If the input list is empty, return an empty list\n",
    "\n",
    "        intervals.sort(key=lambda x: x[0])  # Sorting the intervals based on the start of each interval\n",
    "        res = [intervals[0]]  # Initializing the result list with the first interval\n",
    "        for i in range(1, len(intervals)):  # Iterating over the sorted intervals starting from the second interval\n",
    "            # If the current interval overlaps with the previous one, merge them\n",
    "            if intervals[i][0] <= res[-1][1]:\n",
    "                res[-1][1] = max(res[-1][1], intervals[i][1])  # Merge by updating the end of the previous interval if necessary\n",
    "            else:\n",
    "                res.append(intervals[i])  # If there is no overlap, add the current interval to the result list\n",
    "\n",
    "        return res  # Return the merged intervals\n",
    "\n",
    "intervals = [[1,3],[2,6],[8,10],[15,18]]\n",
    "sol = Solution()\n",
    "print(\"Output: \" + str(sol.mergeInt(intervals)))\n",
    "\n",
    "# Time Complexity: O(n*log(n)) due to the sorting of intervals\n",
    "# Space Complexity: O(n) for the merged intervals list 'res'\n"
   ]
  },
  {
   "cell_type": "markdown",
   "metadata": {},
   "source": [
    "**Ques2** : Insert Interval - [Leetcode : Ques 57]  [Array]\n",
    "\n",
    "    Input : intervals = [[1,3],[6,9]], newInterval = [2,5]\n",
    "    Output: [[1,5],[6,9]]"
   ]
  },
  {
   "cell_type": "code",
   "execution_count": 38,
   "metadata": {},
   "outputs": [
    {
     "name": "stdout",
     "output_type": "stream",
     "text": [
      "Output: [[1, 3], [5, 8], [9, 12], [14, 25]]\n"
     ]
    }
   ],
   "source": [
    "from typing import List\n",
    "\n",
    "class solution:\n",
    "  def insert(self, intervals: List[int], newInterval: List[int]) -> List[int]:\n",
    "   # Defining a method insert which takes a list of intervals and a new interval as input and returns a list of intervals\n",
    "\n",
    "    if not newInterval: # If the given empty list/Null values\n",
    "        return intervals\n",
    "\n",
    "    result = []  # Initializing an empty list to store the result intervals\n",
    "    i = 0  # Initializing a variable i to iterate over the intervals\n",
    "    n = len(intervals)  # Storing the length of intervals in a variable n\n",
    "\n",
    "    # Add all intervals that end before newInterval starts\n",
    "    while i < n and intervals[i][1] < newInterval[0]:  # Iterate over intervals until the end of an interval is before the start of newInterval\n",
    "        result.append(intervals[i])  # Add the interval to the result list\n",
    "        i += 1  # Move to the next interval\n",
    "\n",
    "    # Merge intervals that overlap with newInterval\n",
    "    while i < n and intervals[i][0] <= newInterval[1]:  # Iterate over intervals that overlap with newInterval\n",
    "        newInterval[0] = min(intervals[i][0], newInterval[0])  # Update the start of newInterval if necessary\n",
    "        newInterval[1] = max(intervals[i][1], newInterval[1])  # Update the end of newInterval if necessary\n",
    "        i += 1  # Move to the next interval\n",
    "\n",
    "    result.append(newInterval)  # Add the merged newInterval to the result list\n",
    "\n",
    "    # Add remaining intervals\n",
    "    while i < n:  # Iterate over the remaining intervals\n",
    "        result.append(intervals[i])  # Add the interval to the result list\n",
    "        i += 1  # Move to the next interval\n",
    "\n",
    "    return result  # Return the merged intervals\n",
    "\n",
    "# intervals = [[1,3],[6,9]]\n",
    "# newInterval = [2,5]\n",
    "intervals = [[1,3],[5,8],[9,12],[14,25]]\n",
    "newInterval = [ ]\n",
    "sol = solution()\n",
    "print(\"Output: \" + str(sol.insert(intervals, newInterval)))\n",
    "\n",
    "# Time Complexity: O(n) where n is the number of intervals\n",
    "# Space Complexity: O(n) for the result list which stores the merged intervals"
   ]
  },
  {
   "cell_type": "markdown",
   "metadata": {},
   "source": [
    "**Ques 3** : Merge Two Sorted Lists [Leetcode Ques 22] - [Linked List]\n",
    "\n",
    "    Input: list1 = [1,2,4], list2 = [1,3,4]\n",
    "    Output: [1,1,2,3,4,4]"
   ]
  },
  {
   "cell_type": "code",
   "execution_count": 49,
   "metadata": {},
   "outputs": [
    {
     "name": "stdout",
     "output_type": "stream",
     "text": [
      "Output: [1, 1, 2, 3, 4, 4]\n"
     ]
    }
   ],
   "source": [
    "# Definition for singly-linked list.\n",
    "class ListNode():\n",
    "    # Initialize a node with a value and a pointer to the next node\n",
    "    def __init__(self, val=0, next=None):\n",
    "        self.val = val\n",
    "        self.next = next\n",
    "\n",
    "# Define a class that contains the method to merge two linked lists\n",
    "class Solution():\n",
    "    # Method to merge two linked lists\n",
    "    def mergeTwoLists(self, l1, l2):\n",
    "        # Create a dummy node to start the merged list\n",
    "        dummy = ListNode()\n",
    "        # Initialize the tail of the merged list\n",
    "        tail = dummy\n",
    "\n",
    "        # Continue until either list becomes empty\n",
    "        while l1 and l2:\n",
    "            # If value in l1 is smaller, append it to the merged list\n",
    "            if l1.val <= l2.val:\n",
    "                tail.next = l1\n",
    "                # Move l1 pointer to the next node\n",
    "                l1 = l1.next\n",
    "            # If value in l2 is smaller or equal, append it to the merged list\n",
    "            else:\n",
    "                tail.next = l2\n",
    "                # Move l2 pointer to the next node\n",
    "                l2 = l2.next\n",
    "            # Move the tail pointer of the merged list to the newly appended node\n",
    "            tail = tail.next\n",
    "\n",
    "        # Append the remaining nodes of l1 or l2 to the merged list\n",
    "        if l1:\n",
    "            tail.next = l1\n",
    "        elif l2:\n",
    "            tail.next = l2\n",
    "\n",
    "        # Return the merged linked list\n",
    "        return dummy.next\n",
    "\n",
    "# Create linked lists from the input lists\n",
    "def createLinkedList(nums):\n",
    "    # Create a dummy node as the head of the linked list\n",
    "    dummy = ListNode()\n",
    "    current = dummy\n",
    "    # Iterate over the input list to create linked list nodes\n",
    "    for num in nums:\n",
    "        current.next = ListNode(num)\n",
    "        current = current.next\n",
    "    # Return the first node of the linked list\n",
    "    return dummy.next\n",
    "\n",
    "\n",
    "l1 = createLinkedList([1,2,4])\n",
    "l2 = createLinkedList([1,3,4])\n",
    "\n",
    "sol = Solution()\n",
    "# Merge the two linked lists\n",
    "merged_list = sol.mergeTwoLists(l1, l2)\n",
    "\n",
    "# Convert merged linked list to list for printing\n",
    "result = []\n",
    "while merged_list:\n",
    "    result.append(merged_list.val)\n",
    "    merged_list = merged_list.next\n",
    "\n",
    "\n",
    "print(\"Output:\", result)"
   ]
  },
  {
   "cell_type": "markdown",
   "metadata": {},
   "source": [
    "# 5. Two Pointers or Iterators Pattern"
   ]
  },
  {
   "cell_type": "markdown",
   "metadata": {},
   "source": [
    "The Two Pointers pattern involves using two pointers or iterators that iterate through a data structure in tandem until one or both pointers hit a certain condition. This pattern is often useful when searching for pairs in a sorted array or linked list, such as when comparing each element of an array to its other elements.\n",
    "\n",
    "Two pointers are necessary because using just one pointer would require continually looping back through the array to find the answer, which is inefficient in terms of time and space complexity. By using two pointers, you can often find a solution with better space or runtime complexity.\n",
    "\n",
    "You can identify problems that can be solved using the Two Pointer method if they involve sorted arrays or linked lists and require finding a set of elements that fulfill certain constraints, such as pairs, triplets, or subarrays.\n",
    "\n",
    "Some common problems that can be solved using the Two Pointer pattern include squaring a sorted array (easy), finding triplets that sum to zero (medium), and comparing strings that contain backspaces (medium)."
   ]
  },
  {
   "cell_type": "markdown",
   "metadata": {},
   "source": [
    "----"
   ]
  },
  {
   "cell_type": "markdown",
   "metadata": {},
   "source": [
    "**Ques1** : Find 2Sum - [Leetcode : Ques 1] : [Array] [Hash Tables]\n",
    "\n",
    "    Input: nums = [2,7,11,15], target = 9\n",
    "    Output: [0,1]"
   ]
  },
  {
   "cell_type": "code",
   "execution_count": 26,
   "metadata": {},
   "outputs": [
    {
     "name": "stdout",
     "output_type": "stream",
     "text": [
      "Output: [0, 1]\n"
     ]
    }
   ],
   "source": [
    "from typing import List\n",
    "\n",
    "class solution():\n",
    "    def sum2(self, nums: List[int], target: int) -> int:  # Defining a method sum2 which takes a list of integers and an integer target as input and returns an integer\n",
    "        hash_map = {}  # Creating an empty dictionary to store indices of elements\n",
    "\n",
    "        for i, n in enumerate(nums):  # Iterating through the list of numbers with their indices\n",
    "            diff = target - n  # Calculating the difference between target and the current number\n",
    "            if diff in hash_map:  # Checking if the difference is already in the hash_map\n",
    "                return [hash_map[diff], i]  # If the difference is in the hash_map, return the indices of the two numbers\n",
    "            hash_map[n] = i  # If the difference is not in the hash_map, store the current number and its index in the hash_map\n",
    "\n",
    "nums = [2, 7, 11, 15]\n",
    "target = 9\n",
    "sol = solution()\n",
    "print(\"Output: \" + str(sol.sum2(nums, target)))\n",
    "\n",
    "# Time Complexity: O(n)\n",
    "# Space Complexity: O(n)"
   ]
  },
  {
   "cell_type": "markdown",
   "metadata": {},
   "source": [
    "**Ques2** : Two Sum II - Input Array Is Sorted - [Leetcode : Ques 167] [Array]\n",
    "\n",
    "    Input: numbers = [2,7,11,15], target = 9\n",
    "    Output: [1,2]"
   ]
  },
  {
   "cell_type": "code",
   "execution_count": 27,
   "metadata": {},
   "outputs": [
    {
     "name": "stdout",
     "output_type": "stream",
     "text": [
      "Output: [1, 2]\n"
     ]
    }
   ],
   "source": [
    "from typing import List\n",
    "\n",
    "class solution():\n",
    "    def twoSum2(self, nums: List[int], target: int) -> List[int]:  # Defining a method twoSum2 which takes a list of integers and a target integer as input and returns a list of two integers\n",
    "        l, r = 0, len(nums) - 1  # Initializing two pointers, l for the leftmost element and r for the rightmost element\n",
    "\n",
    "        while l < r:  # Continue until the two pointers meet\n",
    "            curr_value = nums[l] + nums[r]  # Calculate the sum of the elements at the current positions\n",
    "            if curr_value > target:  # If the sum is greater than the target, move the right pointer to the left\n",
    "                r -= 1\n",
    "            elif curr_value < target:  # If the sum is less than the target, move the left pointer to the right\n",
    "                l += 1\n",
    "            else:  # If the sum is equal to the target, return the indices (1-based) of the two elements\n",
    "                return [l + 1, r + 1]\n",
    "\n",
    "nums = [2,7,11,15]\n",
    "target = 9\n",
    "sol = solution()\n",
    "print(\"Output: \" + str(sol.twoSum2(nums, target)))\n",
    "\n",
    "# Time Complexity: O(n)\n",
    "# Space Complexity: O(1)"
   ]
  },
  {
   "cell_type": "markdown",
   "metadata": {},
   "source": [
    "**Ques3** : 3Sum - [Leetcode : Ques 15] [Array]\n",
    "\n",
    "    Input: nums = [-1,0,1,2,-1,-4]\n",
    "    Output: [[-1,-1,2],[-1,0,1]]"
   ]
  },
  {
   "cell_type": "code",
   "execution_count": 30,
   "metadata": {},
   "outputs": [
    {
     "name": "stdout",
     "output_type": "stream",
     "text": [
      "Output: [[-1, -1, 2], [-1, 0, 1]]\n"
     ]
    }
   ],
   "source": [
    "from typing import List\n",
    "\n",
    "class solution:\n",
    "    def threeSum(self, nums: List[int]) -> List[int]: # Defining a method named threeSum that takes a list of integers as input\n",
    "        nums.sort()  # Sorting the input list in ascending order\n",
    "        n = len(nums)  # Storing the length of the sorted list in a variable n\n",
    "        result = []  # Creating an empty list to store the result triplets\n",
    "\n",
    "        for i in range(n - 2):  # Looping through the list up to the second-to-last element\n",
    "            if i > 0 and nums[i] == nums[i - 1]:  # Skipping duplicate values of nums[i]\n",
    "                continue\n",
    "\n",
    "            left, right = i + 1, n - 1  # Initializing two pointers: left points to i + 1, right points to the last element\n",
    "\n",
    "            while left < right:  # Looping until the two pointers meet\n",
    "                total = nums[i] + nums[left] + nums[right]  # Calculating the sum of the three numbers\n",
    "\n",
    "                if total < 0:  # If the sum is less than zero, move the left pointer to the right\n",
    "                    left += 1\n",
    "                elif total > 0:  # If the sum is greater than zero, move the right pointer to the left\n",
    "                    right -= 1\n",
    "                else:  # If the sum is zero, we have found a triplet\n",
    "                    result.append([nums[i], nums[left], nums[right]])  # Add the triplet to the result list\n",
    "                    left += 1  # Move the left pointer to the right to find the next triplet\n",
    "                    right -= 1  # Move the right pointer to the left to find the next triplet\n",
    "\n",
    "                    # Skip duplicate values of nums[left] and nums[right]\n",
    "                    while left < right and nums[left] == nums[left - 1]:\n",
    "                        left += 1\n",
    "                    while left < right and nums[right] == nums[right + 1]:\n",
    "                        right -= 1\n",
    "\n",
    "        return result  # Return the list of unique triplets that sum to zero\n",
    "\n",
    "nums = [-1,0,1,2,-1,-4]\n",
    "sol = solution()\n",
    "print(\"Output: \" + str(sol.threeSum(nums)))\n",
    "\n",
    "# Time Complexity: O(n^2)\n",
    "# Space Complexity: O(1)\n"
   ]
  },
  {
   "cell_type": "markdown",
   "metadata": {},
   "source": [
    "**Ques 4** : Valid Palindrome - [Leetcode Ques 125]\n",
    "\n",
    "    Input: s = \"A man, a plan, a canal: Panama\"\n",
    "    Output: true"
   ]
  },
  {
   "cell_type": "code",
   "execution_count": 56,
   "metadata": {},
   "outputs": [
    {
     "name": "stdout",
     "output_type": "stream",
     "text": [
      "Output: True\n"
     ]
    }
   ],
   "source": [
    "class Solution:\n",
    "    def isPal(self, s) -> bool:\n",
    "        # Initialize two pointers at the start and end of the string.\n",
    "        l, r = 0, len(s) - 1\n",
    "\n",
    "        # Continue until the two pointers meet.\n",
    "        while l < r:\n",
    "            # If the character at the left pointer is not alphanumeric, move the left pointer to the right.\n",
    "            if not s[l].isalnum():\n",
    "                l += 1\n",
    "                continue\n",
    "            # If the character at the right pointer is not alphanumeric, move the right pointer to the left.\n",
    "            if not s[r].isalnum():\n",
    "                r -= 1\n",
    "                continue\n",
    "            # If the lowercase character at the left pointer is not equal to the lowercase character at the right pointer, return False.\n",
    "            if s[l].lower() != s[r].lower():\n",
    "                return False\n",
    "            # Move the left pointer to the right and the right pointer to the left for the next comparison.\n",
    "            l += 1\n",
    "            r -= 1\n",
    "        # If the loop completes without finding any mismatch, return True (the string is a palindrome).\n",
    "        return True\n",
    "\n",
    "    # Helper function to check if a character is alphanumeric.\n",
    "    def isalpha(self, c):\n",
    "        return (ord('A') <= ord(c) <= ord('Z') or\n",
    "                ord('a') <= ord(c) <= ord('z') or\n",
    "                ord('0') <= ord(c) <= ord('9'))\n",
    "\n",
    "s = \"A man, a plan, a canal: Panama\"\n",
    "sol = solution()\n",
    "print(\"Output: \" + str(sol.isPal(s)))\n",
    "\n",
    "# Time Complexity: O(n)\n",
    "# Space Complexity: O(n)"
   ]
  },
  {
   "cell_type": "markdown",
   "metadata": {},
   "source": [
    "# 6. Modified binary search Pattern"
   ]
  },
  {
   "cell_type": "markdown",
   "metadata": {},
   "source": [
    "The Modified Binary Search pattern is a powerful approach for efficiently finding elements in sorted arrays, linked lists, or matrices. It's particularly effective for solving problems that involve binary search.\n",
    "\n",
    "Here's how it works for arrays in ascending order:\n",
    "\n",
    "    Find the middle element between the start and end indices. To avoid integer overflow, use: middle = start + (end - start) / 2.\n",
    "    If the key matches the element at the middle index, return the middle index.\n",
    "    If the key doesn't match the middle element:\n",
    "        If the key is less than the middle element, search in the left half by setting end = middle - 1.\n",
    "        If the key is greater than the middle element, search in the right half by setting start = middle + 1.\n",
    "\n",
    "Identifying when to use this pattern:\n",
    "\n",
    "    Given a sorted array, linked list, or matrix, and asked to find a specific element.\n",
    "\n",
    "Example problems using this pattern:\n",
    "\n",
    "    Order-agnostic Binary Search (easy)\n",
    "    Search in a Sorted Infinite Array (medium)\""
   ]
  },
  {
   "cell_type": "markdown",
   "metadata": {},
   "source": [
    "----"
   ]
  },
  {
   "cell_type": "markdown",
   "metadata": {},
   "source": [
    "**Ques1** : Product of Array Except Self - [Leetcode Ques 238] [Array]\n",
    "\n",
    "    Input: nums = [1,2,3,4]\n",
    "    Output: [24,12,8,6]"
   ]
  },
  {
   "cell_type": "code",
   "execution_count": 29,
   "metadata": {},
   "outputs": [
    {
     "name": "stdout",
     "output_type": "stream",
     "text": [
      "Output: [24, 12, 8, 6]\n"
     ]
    }
   ],
   "source": [
    "from typing import List\n",
    "\n",
    "class Solution:\n",
    "    def productExceptSelf(self, nums: List[int]) -> List[int]:  # Define a method productExceptSelf that takes a list of integers 'nums' as input\n",
    "        res = [1] * len(nums)  # Initialize a result list 'res' with all elements set to 1\n",
    "\n",
    "        i = 1  # Initialize a variable 'i' to 1\n",
    "\n",
    "        while i < len(nums):  # Loop over the 'nums' list starting from index 1\n",
    "            res[i] = nums[i - 1] * res[i - 1]  # Update 'res[i]' by multiplying 'nums[i-1]' with the previous value of 'res[i-1]'\n",
    "            i += 1  # Increment 'i' by 1\n",
    "\n",
    "        prod = 1  # Initialize a variable 'prod' to 1\n",
    "        i = len(nums) - 2  # Initialize 'i' to the second last index of 'nums'\n",
    "\n",
    "        while i >= 0:  # Loop over 'nums' in reverse order\n",
    "            prod *= nums[i + 1]  # Update 'prod' by multiplying it with 'nums[i+1]'\n",
    "            res[i] *= prod  # Update 'res[i]' by multiplying it with 'prod'\n",
    "            i -= 1  # Decrement 'i' by 1\n",
    "\n",
    "        return res  # Return the final result 'res'\n",
    "\n",
    "nums = [1,2,3,4]\n",
    "sol = Solution()\n",
    "print(\"Output: \" + str(sol.productExceptSelf(nums)))\n",
    "\n",
    "# Time Complexity: O(n)\n",
    "# Space Complexity: O(n)"
   ]
  },
  {
   "cell_type": "markdown",
   "metadata": {},
   "source": [
    "# 7. Fast and Slow pointers Pattern"
   ]
  },
  {
   "cell_type": "markdown",
   "metadata": {},
   "source": [
    "The Fast and Slow Pointer approach, also known as the Hare & Tortoise algorithm, is a pointer algorithm that uses two pointers moving through an array, sequence, or linked list at different speeds. This technique is particularly useful for solving problems involving cyclic linked lists or arrays.\n",
    "\n",
    "By moving at different speeds, this algorithm ensures that the two pointers will eventually meet. In a cyclic linked list, for example, the fast pointer will eventually catch up to the slow pointer once they are both inside the cyclic loop.\n",
    "\n",
    "To identify when to use the Fast and Slow pattern:\n",
    "\n",
    "    Look for problems involving a loop in a linked list or array.\n",
    "    Use it when you need to determine the position of a certain element or the overall length of a linked list.\n",
    "\n",
    "The Fast and Slow pattern is preferred over the Two Pointer method when dealing with singly linked lists where moving in a backwards direction is not possible. For example, you would use the Fast and Slow pattern to determine if a linked list is a palindrome.\n",
    "\n",
    "Examples of problems that can be solved using the Fast and Slow pointers pattern include Linked List Cycle (easy), Palindrome Linked List (medium), and Cycle in a Circular Array (hard)."
   ]
  },
  {
   "cell_type": "markdown",
   "metadata": {},
   "source": [
    "----"
   ]
  },
  {
   "cell_type": "markdown",
   "metadata": {},
   "source": [
    "# 8. Tree BFS Pattern"
   ]
  },
  {
   "cell_type": "markdown",
   "metadata": {},
   "source": [
    "The Tree BFS (Breadth First Search) pattern is used to traverse a tree in a level-by-level order, using a queue to keep track of nodes at each level before moving to the next level. This approach is efficient for solving problems that require the traversal of a tree in a level-by-level fashion.\n",
    "\n",
    "To implement the Tree BFS pattern, start by pushing the root node to the queue. Then, continue iterating until the queue is empty. For each iteration, remove the node at the head of the queue and process it. Additionally, insert all of its children into the queue.\n",
    "\n",
    "You can identify the Tree BFS pattern in problems that involve traversing a tree in a level-by-level order.\n",
    "\n",
    "Examples of problems that can be solved using the Tree BFS pattern include Binary Tree Level Order Traversal (easy) and Zigzag Traversal (medium)."
   ]
  },
  {
   "cell_type": "markdown",
   "metadata": {},
   "source": [
    "----"
   ]
  },
  {
   "cell_type": "markdown",
   "metadata": {},
   "source": [
    "# 9. Tree DFS Pattern"
   ]
  },
  {
   "cell_type": "markdown",
   "metadata": {},
   "source": [
    "The Tree DFS (Depth First Search) pattern is used to traverse a tree by exploring as far as possible along each branch before backtracking. This pattern can be implemented using recursion or an explicit stack for the iterative approach.\n",
    "\n",
    "When using Tree DFS, you start at the root of the tree and recursively explore each branch as deeply as possible before backtracking. The traversal can be done in pre-order, in-order, or post-order depending on when you choose to process the current node.\n",
    "\n",
    "To identify the Tree DFS pattern, look for problems that require traversing a tree with in-order, pre-order, or post-order DFS, or when searching for something where the node is closer to a leaf.\n",
    "\n",
    "Examples of problems that can be solved using the Tree DFS pattern include Sum of Path Numbers (medium) and All Paths for a Sum (medium)."
   ]
  },
  {
   "cell_type": "markdown",
   "metadata": {},
   "source": [
    "----"
   ]
  },
  {
   "cell_type": "markdown",
   "metadata": {},
   "source": [
    "**Ques1** Invert Binary Tree [Leetcode Ques 226]\n",
    "\n",
    "    Input: root = [2,1,3]\n",
    "    Output: [2,3,1]"
   ]
  },
  {
   "cell_type": "code",
   "execution_count": 77,
   "metadata": {},
   "outputs": [
    {
     "name": "stdout",
     "output_type": "stream",
     "text": [
      "Output: <__main__.TreeNode object at 0x1122c0670>\n"
     ]
    }
   ],
   "source": [
    "# Definition for a binary tree node.\n",
    "class TreeNode(object):\n",
    "    def __init__(self, val=0, left=None, right=None):\n",
    "        self.val = val\n",
    "        self.left = left\n",
    "        self.right = right\n",
    "\n",
    "class Solution(object):\n",
    "    def invertTree(self, root):\n",
    "        # Base case: if the root is None, return None\n",
    "        if not root:\n",
    "            return None\n",
    "\n",
    "        # Swap the left and right children of the current root\n",
    "        temp = root.left\n",
    "        root.left = root.right\n",
    "        root.right = temp\n",
    "\n",
    "        # Recursively invert the left subtree\n",
    "        self.invertTree(root.left)\n",
    "        # Recursively invert the right subtree\n",
    "        self.invertTree(root.right)\n",
    "\n",
    "        # Return the root node of the inverted tree\n",
    "        return root\n",
    "\n",
    "# Create a binary tree with root node value 2, left child value 1, and right child value 3\n",
    "root = TreeNode(2)\n",
    "root.left = TreeNode(1)\n",
    "root.right = TreeNode(3)\n",
    "\n",
    "# Create an instance of the Solution class\n",
    "sol = Solution()\n",
    "# Invert the binary tree starting from the root node\n",
    "inverted_tree_root = sol.invertTree(root)\n",
    "\n",
    "# Print the output\n",
    "print(\"Output: \" + str(inverted_tree_root))"
   ]
  },
  {
   "cell_type": "markdown",
   "metadata": {},
   "source": [
    "# 10. Subsets Pattern"
   ]
  },
  {
   "cell_type": "markdown",
   "metadata": {},
   "source": [
    "The Subsets pattern is used to efficiently handle problems involving permutations and combinations of a given set of elements. This pattern employs a Breadth First Search (BFS) approach to generate all possible subsets of the given set.\n",
    "\n",
    "Here's how the pattern works:\n",
    "\n",
    "    Start with an empty set: [[]]\n",
    "    Add the first number to all existing subsets to create new subsets: [[], [1]]\n",
    "    Add the second number to all existing subsets: [[], [1], [5], [1, 5]]\n",
    "    Add the third number to all existing subsets: [[], [1], [5], [1, 5], [3], [1, 3], [5, 3], [1, 5, 3]]\n",
    "\n",
    "To identify the Subsets pattern, look for problems where you need to find combinations or permutations of a given set.\n",
    "\n",
    "Examples of problems featuring the Subsets pattern include \"Subsets With Duplicates\" (easy) and \"String Permutations by changing case\" (medium difficulty)."
   ]
  },
  {
   "cell_type": "markdown",
   "metadata": {},
   "source": [
    "----"
   ]
  },
  {
   "cell_type": "markdown",
   "metadata": {},
   "source": [
    "# 11. Two heaps Pattern "
   ]
  },
  {
   "cell_type": "markdown",
   "metadata": {},
   "source": [
    "The Two Heaps pattern is an efficient approach used to solve problems where a set of elements can be divided into two parts, and we need to find the smallest element in one part and the largest element in the other part. This pattern utilizes two heaps: a Min Heap to find the smallest element and a Max Heap to find the largest element.\n",
    "\n",
    "Here's how it works: the first half of numbers is stored in a Max Heap because we want to find the largest number in the first half. Conversely, the second half of numbers is stored in a Min Heap to find the smallest number in the second half. The median of the current list of numbers can be calculated at any time from the top element of the two heaps.\n",
    "\n",
    "To identify the Two Heaps pattern, look for problems involving Priority Queues, Scheduling, or situations where you need to find the smallest, largest, or median elements of a set. This pattern can also be useful in problems featuring a binary tree data structure.\n",
    "\n",
    "An example problem that can be solved using the Two Heaps pattern is \"Find the Median of a Number Stream\" (medium difficulty)."
   ]
  },
  {
   "cell_type": "markdown",
   "metadata": {},
   "source": [
    "----"
   ]
  },
  {
   "cell_type": "markdown",
   "metadata": {},
   "source": [
    "# 12. Top K elements Pattern "
   ]
  },
  {
   "cell_type": "markdown",
   "metadata": {},
   "source": [
    "The Top K Elements pattern is used to find the top, smallest, or most frequent 'K' elements from a given set. It is typically solved using a heap data structure.\n",
    "\n",
    "The approach involves:\n",
    "\n",
    "    Inserting 'K' elements into a min-heap or max-heap, depending on the problem's requirements.\n",
    "    Iterating through the remaining numbers and, if a number is larger (or smaller, depending on the heap type) than the minimum (or maximum) element in the heap, replacing the minimum (or maximum) element with the larger (or smaller) number.\n",
    "\n",
    "This pattern eliminates the need for sorting algorithms because the heap automatically maintains the 'K' elements of interest.\n",
    "\n",
    "How to identify the Top K Elements pattern:\n",
    "\n",
    "    The problem involves finding the top, smallest, or most frequent 'K' elements of a set.\n",
    "    The problem can be solved efficiently using a heap data structure.\n",
    "\n",
    "Problems featuring the Top K Elements pattern:\n",
    "\n",
    "    Top 'K' Numbers (easy)\n",
    "    Top 'K' Frequent Numbers (medium)\""
   ]
  },
  {
   "cell_type": "markdown",
   "metadata": {},
   "source": [
    "----"
   ]
  },
  {
   "cell_type": "markdown",
   "metadata": {},
   "source": [
    "# 13. K-way Merge Pattern "
   ]
  },
  {
   "cell_type": "markdown",
   "metadata": {},
   "source": [
    "The K-way Merge pattern is used to solve problems involving a set of sorted arrays. It utilizes a heap data structure to efficiently perform a sorted traversal of all elements in the arrays.\n",
    "\n",
    "The approach involves:\n",
    "\n",
    "    Inserting the first element of each array into a Min Heap.\n",
    "    Removing the smallest (top) element from the heap and adding it to the merged list.\n",
    "    Inserting the next element from the same array into the heap.\n",
    "    Repeating steps 2 and 3 to populate the merged list in sorted order.\n",
    "\n",
    "This pattern is useful for merging sorted lists or finding the smallest element in a sorted list.\n",
    "\n",
    "How to identify the K-way Merge pattern:\n",
    "\n",
    "    The problem involves sorted arrays, lists, or a matrix.\n",
    "    The problem requires merging sorted lists or finding the smallest element in a sorted list.\n",
    "\n",
    "Problems featuring the K-way Merge pattern:\n",
    "\n",
    "    Merge K Sorted Lists (medium)\n",
    "    K Pairs with Largest Sums (hard)"
   ]
  },
  {
   "cell_type": "markdown",
   "metadata": {},
   "source": [
    "----"
   ]
  },
  {
   "cell_type": "markdown",
   "metadata": {},
   "source": [
    "# 14. Topological sort Pattern"
   ]
  },
  {
   "cell_type": "markdown",
   "metadata": {},
   "source": [
    "Topological Sort is used to find a linear ordering of elements that have dependencies on each other, ensuring that if event 'B' is dependent on event 'A', 'A' comes before 'B' in the ordering.\n",
    "\n",
    "The pattern provides a systematic way to perform topological sorting of elements. It involves:\n",
    "\n",
    "    Initialization:\n",
    "        Store the graph in adjacency lists using a HashMap.\n",
    "        Use a HashMap to keep the count of in-degrees to find all sources.\n",
    "\n",
    "    Build the graph and find in-degrees of all vertices.\n",
    "\n",
    "    Find all sources:\n",
    "        Vertices with '0' in-degrees are sources and are stored in a Queue.\n",
    "\n",
    "    Sort:\n",
    "        For each source:\n",
    "        i) Add it to the sorted list.\n",
    "        ii) Get all of its children from the graph.\n",
    "        iii) Decrement the in-degree of each child by 1.\n",
    "        iv) If a child's in-degree becomes '0', add it to the sources Queue.\n",
    "        Repeat until the source Queue is empty.\n",
    "\n",
    "How to identify the Topological Sort pattern:\n",
    "\n",
    "    The problem deals with graphs that have no directed cycles.\n",
    "    If you're asked to update all objects in a sorted order.\n",
    "    If there's a class of objects that follow a particular order.\n",
    "\n",
    "Problems featuring the Topological Sort pattern:\n",
    "\n",
    "    Task Scheduling (medium)\n",
    "    Minimum Height of a Tree (hard)"
   ]
  },
  {
   "cell_type": "markdown",
   "metadata": {},
   "source": [
    "----"
   ]
  },
  {
   "cell_type": "markdown",
   "metadata": {},
   "source": [
    "### Other Problems [Not a Common Pattern]"
   ]
  },
  {
   "cell_type": "markdown",
   "metadata": {},
   "source": [
    "## String Manipulation "
   ]
  },
  {
   "cell_type": "markdown",
   "metadata": {},
   "source": [
    "**Ques1** Valid Anagram [Leetcode Ques 242]\n",
    "\n",
    "    Input: s = \"anagram\", t = \"nagaram\"\n",
    "    Output: true"
   ]
  },
  {
   "cell_type": "code",
   "execution_count": 83,
   "metadata": {},
   "outputs": [
    {
     "name": "stdout",
     "output_type": "stream",
     "text": [
      "Output: True\n"
     ]
    }
   ],
   "source": [
    "class solution:\n",
    "    def is_Valid(self, s: str, t: str) -> bool:  # Define a method is_Valid that takes two strings s and t as input and returns a boolean value.\n",
    "        if len(s) != len(t):  # Check if the lengths of s and t are not equal.\n",
    "            return False  # Return False if the lengths are not equal.\n",
    "\n",
    "        countS, countT = {}, {}  # Create empty dictionaries countS and countT to store character counts.\n",
    "\n",
    "        for i in range(len(s)):  # Iterate over the indices of string s.\n",
    "            countS[s[i]] = 1 + countS.get(s[i], 0)  # Update the count of character s[i] in countS.\n",
    "            countT[t[i]] = 1 + countT.get(t[i], 0)  # Update the count of character t[i] in countT.\n",
    "\n",
    "        for c in countS:  # Iterate over the characters in countS.\n",
    "            if countS[c] != countT.get(c, 0):  # Check if the count of character c in countS is not equal to the count of character c in countT.\n",
    "                return False  # Return False if the counts are not equal.\n",
    "\n",
    "        return True\n",
    "\n",
    "s = \"anagram\"\n",
    "t = \"nagaram\"\n",
    "\n",
    "sol = solution()\n",
    "print(\"Output: \" + str(sol.is_Valid(s, t)))\n",
    "\n",
    "# Time Complexity: O(n) where n is the length of the strings s and t.\n",
    "# Space Complexity: O(n) where n is the length of the strings s and t, for the countS and countT dictionaries."
   ]
  },
  {
   "cell_type": "code",
   "execution_count": null,
   "metadata": {},
   "outputs": [],
   "source": []
  }
 ],
 "metadata": {
  "kernelspec": {
   "display_name": "code",
   "language": "python",
   "name": "python3"
  },
  "language_info": {
   "codemirror_mode": {
    "name": "ipython",
    "version": 3
   },
   "file_extension": ".py",
   "mimetype": "text/x-python",
   "name": "python",
   "nbconvert_exporter": "python",
   "pygments_lexer": "ipython3",
   "version": "3.9.0"
  }
 },
 "nbformat": 4,
 "nbformat_minor": 2
}
