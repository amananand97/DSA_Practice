{
 "cells": [
  {
   "cell_type": "markdown",
   "metadata": {},
   "source": [
    "# DSA"
   ]
  },
  {
   "cell_type": "markdown",
   "metadata": {},
   "source": [
    "# Hash tables\n",
    "\n",
    "Ques 1. Find 2Sum - [Leetcode : Ques 1]\n",
    "\n",
    "    Input: nums = [2,7,11,15], target = 9\n",
    "    Output: [0,1]"
   ]
  },
  {
   "cell_type": "code",
   "execution_count": 7,
   "metadata": {},
   "outputs": [
    {
     "name": "stdout",
     "output_type": "stream",
     "text": [
      "[0, 1]\n"
     ]
    }
   ],
   "source": [
    "from typing import List\n",
    "\n",
    "class solution():\n",
    "    def sum2(self, nums: List[int], target: int) -> int:  # Defining a method sum2 which takes a list of integers and an integer target as input and returns an integer\n",
    "        hash_map = {}  # Creating an empty dictionary to store indices of elements\n",
    "\n",
    "        for i, n in enumerate(nums):  # Iterating through the list of numbers with their indices\n",
    "            diff = target - n  # Calculating the difference between target and the current number\n",
    "            if diff in hash_map:  # Checking if the difference is already in the hash_map\n",
    "                return [hash_map[diff], i]  # If the difference is in the hash_map, return the indices of the two numbers\n",
    "            hash_map[n] = i  # If the difference is not in the hash_map, store the current number and its index in the hash_map\n",
    "\n",
    "nums = [2, 7, 11, 15]  # Input list of numbers\n",
    "target = 9  # Target sum\n",
    "sol = solution()  # Creating an instance of the solution class\n",
    "print(sol.sum2(nums, target))  # Printing the result of calling the sum2 method with the input list and target\n",
    "\n",
    "# Time Complexity: O(n)\n",
    "# Space Complexity: O(n)\n"
   ]
  },
  {
   "cell_type": "markdown",
   "metadata": {},
   "source": [
    "# Techniques like sorting and iteration "
   ]
  },
  {
   "cell_type": "markdown",
   "metadata": {},
   "source": [
    "Ques1 : Merge Intervals: Given a list of intervals, merge all overlapping intervals.\n",
    "\n",
    "    Input: [[1,3],[2,6],[8,10],[15,18]]\n",
    "    Output: [[1,6],[8,10],[15,18]]"
   ]
  },
  {
   "cell_type": "code",
   "execution_count": 6,
   "metadata": {},
   "outputs": [
    {
     "name": "stdout",
     "output_type": "stream",
     "text": [
      "[[1, 6], [8, 10], [15, 18]]\n"
     ]
    }
   ],
   "source": [
    "from typing import List\n",
    "\n",
    "class Solution:\n",
    "    def mergeInt(self, intervals: List[List[int]]) -> List[List[int]]:  # Defining a method mergeInt which takes a list of lists of integers (intervals) and returns a list of merged intervals\n",
    "        if not intervals:  # Checking if the input list is empty\n",
    "            return []  # If the input list is empty, return an empty list\n",
    "\n",
    "        intervals.sort(key=lambda x: x[0])  # Sorting the intervals based on the start of each interval\n",
    "        res = [intervals[0]]  # Initializing the result list with the first interval\n",
    "        for i in range(1, len(intervals)):  # Iterating over the sorted intervals starting from the second interval\n",
    "            # If the current interval overlaps with the previous one, merge them\n",
    "            if intervals[i][0] <= res[-1][1]:\n",
    "                res[-1][1] = max(res[-1][1], intervals[i][1])  # Merge by updating the end of the previous interval if necessary\n",
    "            else:\n",
    "                res.append(intervals[i])  # If there is no overlap, add the current interval to the result list\n",
    "\n",
    "        return res  # Return the merged intervals\n",
    "\n",
    "intervals = [[1,3],[2,6],[8,10],[15,18]]\n",
    "sol = Solution()\n",
    "print(sol.mergeInt(intervals))\n",
    "\n",
    "# Time Complexity: O(n*log(n)) due to the sorting of intervals\n",
    "# Space Complexity: O(n) for the merged intervals list 'res'\n"
   ]
  },
  {
   "cell_type": "markdown",
   "metadata": {},
   "source": [
    "Ques2. Insert Interval - [Leetcode : Ques 57]\n",
    "\n",
    "    Input : intervals = [[1,3],[6,9]], newInterval = [2,5]\n",
    "    Output: [[1,5],[6,9]]"
   ]
  },
  {
   "cell_type": "code",
   "execution_count": 8,
   "metadata": {},
   "outputs": [
    {
     "name": "stdout",
     "output_type": "stream",
     "text": [
      "[[1, 5], [6, 9]]\n"
     ]
    }
   ],
   "source": [
    "from typing import List\n",
    "\n",
    "class solution:\n",
    "  def insert(self, intervals: List[int], newInterval: List[int]) -> List[int]:\n",
    "   # Defining a method insert which takes a list of intervals and a new interval as input and returns a list of intervals\n",
    "    result = []  # Initializing an empty list to store the result intervals\n",
    "    i = 0  # Initializing a variable i to iterate over the intervals\n",
    "    n = len(intervals)  # Storing the length of intervals in a variable n\n",
    "\n",
    "    # Add all intervals that end before newInterval starts\n",
    "    while i < n and intervals[i][1] < newInterval[0]:  # Iterate over intervals until the end of an interval is before the start of newInterval\n",
    "        result.append(intervals[i])  # Add the interval to the result list\n",
    "        i += 1  # Move to the next interval\n",
    "\n",
    "    # Merge intervals that overlap with newInterval\n",
    "    while i < n and intervals[i][0] <= newInterval[1]:  # Iterate over intervals that overlap with newInterval\n",
    "        newInterval[0] = min(intervals[i][0], newInterval[0])  # Update the start of newInterval if necessary\n",
    "        newInterval[1] = max(intervals[i][1], newInterval[1])  # Update the end of newInterval if necessary\n",
    "        i += 1  # Move to the next interval\n",
    "\n",
    "    result.append(newInterval)  # Add the merged newInterval to the result list\n",
    "\n",
    "    # Add remaining intervals\n",
    "    while i < n:  # Iterate over the remaining intervals\n",
    "        result.append(intervals[i])  # Add the interval to the result list\n",
    "        i += 1  # Move to the next interval\n",
    "\n",
    "    return result  # Return the merged intervals\n",
    "\n",
    "intervals = [[1,3],[6,9]]  # Input list of intervals\n",
    "newInterval = [2,5]  # New interval to insert\n",
    "sol = solution()  # Creating an instance of the solution class\n",
    "print(sol.insert(intervals, newInterval))  # Printing the result of calling the insert method with the input intervals and newInterval\n",
    "\n",
    "# Time Complexity: O(n) where n is the number of intervals\n",
    "# Space Complexity: O(n) for the result list which stores the merged intervals"
   ]
  },
  {
   "cell_type": "markdown",
   "metadata": {},
   "source": [
    "# \"One Pass\" approach\n",
    "\n",
    "Ques1: Write an efficient function that takes stock_prices and returns the best profit I could have made from one purchase and one sale of one share of Apple stock yesterday.\n",
    "\n",
    "    Input: stock_prices = [10, 7, 5, 8, 11, 9]\n",
    "    Output: 6"
   ]
  },
  {
   "cell_type": "code",
   "execution_count": 9,
   "metadata": {},
   "outputs": [
    {
     "name": "stdout",
     "output_type": "stream",
     "text": [
      "6\n"
     ]
    }
   ],
   "source": [
    "from typing import List\n",
    "\n",
    "class Solution:\n",
    "    def stock(self, stock_prices: List[int]) -> int:  # Defining a method stock which takes a list of integers (stock_prices) and returns an integer\n",
    "        curr_price = stock_prices[0]  # Setting the initial current price to the first stock price\n",
    "        profit = 0  # Initializing the profit to 0\n",
    "\n",
    "        for i in stock_prices[1:]:  # Iterating over the stock prices starting from the second price\n",
    "            if i < curr_price:  # If the current price is lower than the previous price, update the current price\n",
    "                curr_price = i\n",
    "            else:  # If the current price is higher than or equal to the previous price, calculate the profit\n",
    "                profit = max(profit, i - curr_price)  # Update the profit if the current profit is higher\n",
    "\n",
    "        return profit  # Return the maximum profit\n",
    "\n",
    "stock_prices = [10, 7, 5, 8, 11, 9]  # Input list of stock prices\n",
    "sol = Solution()  # Creating an instance of the Solution class (corrected class name)\n",
    "print(sol.stock(stock_prices))  # Printing the result of calling the stock method with the input stock_prices\n",
    "\n",
    "# Time Complexity: O(n) where n is the number of stock prices\n",
    "# Space Complexity: O(1) since only a constant amount of extra space is used"
   ]
  },
  {
   "cell_type": "markdown",
   "metadata": {},
   "source": [
    "# Two pointers\n",
    "\n",
    "Ques1 : Two Sum II - Input Array Is Sorted - [Leetcode : Ques 167]\n",
    "\n",
    "    Input: numbers = [2,7,11,15], target = 9\n",
    "    Output: [1,2]"
   ]
  },
  {
   "cell_type": "code",
   "execution_count": 10,
   "metadata": {},
   "outputs": [
    {
     "name": "stdout",
     "output_type": "stream",
     "text": [
      "[1, 2]\n"
     ]
    }
   ],
   "source": [
    "from typing import List\n",
    "\n",
    "class solution():\n",
    "    def twoSum2(self, nums: List[int], target: int) -> List[int]:  # Defining a method twoSum2 which takes a list of integers and a target integer as input and returns a list of two integers\n",
    "        l, r = 0, len(nums) - 1  # Initializing two pointers, l for the leftmost element and r for the rightmost element\n",
    "\n",
    "        while l < r:  # Continue until the two pointers meet\n",
    "            curr_value = nums[l] + nums[r]  # Calculate the sum of the elements at the current positions\n",
    "            if curr_value > target:  # If the sum is greater than the target, move the right pointer to the left\n",
    "                r -= 1\n",
    "            elif curr_value < target:  # If the sum is less than the target, move the left pointer to the right\n",
    "                l += 1\n",
    "            else:  # If the sum is equal to the target, return the indices (1-based) of the two elements\n",
    "                return [l + 1, r + 1]\n",
    "\n",
    "nums = [2,7,11,15]  # Input list of numbers\n",
    "target = 9  # Target sum\n",
    "sol = solution()  # Creating an instance of the solution class\n",
    "print(sol.twoSum2(nums, target))  # Printing the result of calling the twoSum2 method with the input list and target\n",
    "\n",
    "# Time Complexity: O(n)\n",
    "# Space Complexity: O(1)"
   ]
  },
  {
   "cell_type": "markdown",
   "metadata": {},
   "source": [
    "Ques2: 3Sum - [Leetcode : Ques 15]\n",
    "\n",
    "    Input: nums = [-1,0,1,2,-1,-4]\n",
    "    Output: [[-1,-1,2],[-1,0,1]]"
   ]
  },
  {
   "cell_type": "code",
   "execution_count": 14,
   "metadata": {},
   "outputs": [
    {
     "name": "stdout",
     "output_type": "stream",
     "text": [
      "[[-1, -1, 2], [-1, 0, 1]]\n"
     ]
    }
   ],
   "source": [
    "from typing import List\n",
    "\n",
    "class solution:\n",
    "    def threeSum(self, nums):  # Defining a method named threeSum that takes a list of integers as input\n",
    "        nums.sort()  # Sorting the input list in ascending order\n",
    "        n = len(nums)  # Storing the length of the sorted list in a variable n\n",
    "        result = []  # Creating an empty list to store the result triplets\n",
    "\n",
    "        for i in range(n - 2):  # Looping through the list up to the second-to-last element\n",
    "            if i > 0 and nums[i] == nums[i - 1]:  # Skipping duplicate values of nums[i]\n",
    "                continue\n",
    "\n",
    "            left, right = i + 1, n - 1  # Initializing two pointers: left points to i + 1, right points to the last element\n",
    "\n",
    "            while left < right:  # Looping until the two pointers meet\n",
    "                total = nums[i] + nums[left] + nums[right]  # Calculating the sum of the three numbers\n",
    "\n",
    "                if total < 0:  # If the sum is less than zero, move the left pointer to the right\n",
    "                    left += 1\n",
    "                elif total > 0:  # If the sum is greater than zero, move the right pointer to the left\n",
    "                    right -= 1\n",
    "                else:  # If the sum is zero, we have found a triplet\n",
    "                    result.append([nums[i], nums[left], nums[right]])  # Add the triplet to the result list\n",
    "                    left += 1  # Move the left pointer to the right to find the next triplet\n",
    "                    right -= 1  # Move the right pointer to the left to find the next triplet\n",
    "\n",
    "                    # Skip duplicate values of nums[left] and nums[right]\n",
    "                    while left < right and nums[left] == nums[left - 1]:\n",
    "                        left += 1\n",
    "                    while left < right and nums[right] == nums[right + 1]:\n",
    "                        right -= 1\n",
    "\n",
    "        return result  # Return the list of unique triplets that sum to zero\n",
    "\n",
    "nums = [-1,0,1,2,-1,-4]  # Input list\n",
    "sol = solution()  # Creating an instance of the solution class\n",
    "print(sol.threeSum(nums))  # Calling the threeSum method and printing the result\n",
    "\n",
    "# Time Complexity: O(n**2)\n",
    "# Space Complexity: O(1)\n"
   ]
  },
  {
   "cell_type": "code",
   "execution_count": null,
   "metadata": {},
   "outputs": [],
   "source": []
  }
 ],
 "metadata": {
  "kernelspec": {
   "display_name": "code",
   "language": "python",
   "name": "python3"
  },
  "language_info": {
   "codemirror_mode": {
    "name": "ipython",
    "version": 3
   },
   "file_extension": ".py",
   "mimetype": "text/x-python",
   "name": "python",
   "nbconvert_exporter": "python",
   "pygments_lexer": "ipython3",
   "version": "3.9.0"
  }
 },
 "nbformat": 4,
 "nbformat_minor": 2
}
